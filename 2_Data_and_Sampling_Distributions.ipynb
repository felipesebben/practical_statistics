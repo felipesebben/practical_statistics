{
 "cells": [
  {
   "cell_type": "markdown",
   "metadata": {},
   "source": [
    "<h1><b>2. Data Sampling and Distribution</b></h1>\n",
    "<p>Let's first import the required libraries for this chapter.</p>"
   ]
  },
  {
   "cell_type": "code",
   "execution_count": 1,
   "metadata": {},
   "outputs": [],
   "source": [
    "%matplotlib inline\n",
    "\n",
    "from pathlib import Path\n",
    "import pandas as pd\n",
    "import numpy as np\n",
    "from scipy import stats\n",
    "from sklearn.utils import resample\n",
    "\n",
    "import seaborn as sns\n",
    "import matplotlib.pylab as plt"
   ]
  },
  {
   "cell_type": "code",
   "execution_count": 2,
   "metadata": {},
   "outputs": [],
   "source": [
    "try:\n",
    "    import common\n",
    "    DATA = common.dataDirectory()\n",
    "except ImportError:\n",
    "    DATA = Path().resolve() / 'data'"
   ]
  },
  {
   "cell_type": "markdown",
   "metadata": {},
   "source": [
    "<p>We can now define the paths to our datasets.</p>"
   ]
  },
  {
   "cell_type": "code",
   "execution_count": 3,
   "metadata": {},
   "outputs": [],
   "source": [
    "LOANS_INCOME_CSV = DATA / 'loans_income.csv'\n",
    "SP500_DATA_CSV = DATA / 'sp500_data.csv.gz'"
   ]
  },
  {
   "cell_type": "code",
   "execution_count": 4,
   "metadata": {},
   "outputs": [
    {
     "data": {
      "image/png": "[encoded data removed]",
      "text/plain": [
       "<Figure size 500x200 with 2 Axes>"
      ]
     },
     "metadata": {},
     "output_type": "display_data"
    }
   ],
   "source": [
    "# Figure 2-1\n",
    "np.random.seed(seed=1)\n",
    "x = np.linspace(-3, 3, 300)\n",
    "xsample = stats.norm.rvs(size=1000)\n",
    "\n",
    "fig, axes = plt.subplots(ncols=2, figsize=(5, 2))\n",
    "\n",
    "ax = axes[0]\n",
    "ax.fill(x, stats.norm.pdf(x))\n",
    "ax.set_axis_off()\n",
    "ax.set_xlim(-3, 3)\n",
    "\n",
    "ax = axes[1]\n",
    "ax.hist(xsample, bins=30)\n",
    "ax.set_axis_off()\n",
    "ax.set_xlim(-3, 3)\n",
    "ax.set_position\n",
    "\n",
    "plt.show()\n"
   ]
  },
  {
   "cell_type": "markdown",
   "metadata": {},
   "source": [
    "<p><i>Figure 2-1. Population versus sample</i></p>\n",
    "<hr>\n",
    "<h2><b>2.1 Sampling Distribution of a Statistic</b></h2>\n",
    "<p><i>Sampling distribution</i> refers to the distribution of some sample statistic over <i>many</i> samples drawn from the same population. Normally, you draw a sample with the objective of <i>measuring</i> (sample statistic) or <i>modelling</i> something (statistical/ML model). We want to know how different our estimate or model might be, and thus <i>sampling variability</i> becomes relevant. Let's use the data on annual income for applicants to Lending Club, as we had done before in Chapter 1.</p>"
   ]
  },
  {
   "cell_type": "code",
   "execution_count": 5,
   "metadata": {},
   "outputs": [
    {
     "name": "stdout",
     "output_type": "stream",
     "text": [
      "         income  type\n",
      "40292   63000.0  Data\n",
      "38959   92000.0  Data\n",
      "17361  134000.0  Data\n",
      "33996   52000.0  Data\n",
      "26491   43000.0  Data\n"
     ]
    }
   ],
   "source": [
    "loans_income = pd.read_csv(LOANS_INCOME_CSV).squeeze('columns')\n",
    "\n",
    "sample_data = pd.DataFrame({\n",
    "    'income': loans_income.sample(1000),\n",
    "    'type': 'Data',\n",
    "})\n",
    "\n",
    "sample_mean_05 = pd.DataFrame({\n",
    "    'income': [loans_income.sample(5).mean() for _ in range(1000)],\n",
    "    'type': 'Mean of 5'\n",
    "})\n",
    "\n",
    "sample_mean_20 = pd.DataFrame({\n",
    "    'income': [loans_income.sample(20).mean() for _ in range(1000)],\n",
    "    'type': 'Mean of 20'\n",
    "})\n",
    "\n",
    "results = pd.concat([sample_data, sample_mean_05, sample_mean_20])\n",
    "print(results.head())"
   ]
  },
  {
   "cell_type": "markdown",
   "metadata": {},
   "source": [
    "<p>We can use <code>seaborn</code>'s <code>FacetGrid</code> to attain a visualization of three different histograms using these samples:</p>"
   ]
  },
  {
   "cell_type": "code",
   "execution_count": 6,
   "metadata": {},
   "outputs": [
    {
     "name": "stderr",
     "output_type": "stream",
     "text": [
      "c:\\Users\\Felipe\\python_work\\notebooks\\py_practical_statistics\\practical_statistics\\lib\\site-packages\\seaborn\\axisgrid.py:745: FutureWarning: iteritems is deprecated and will be removed in a future version. Use .items instead.\n",
      "  plot_args = [v for k, v in plot_data.iteritems()]\n",
      "c:\\Users\\Felipe\\python_work\\notebooks\\py_practical_statistics\\practical_statistics\\lib\\site-packages\\seaborn\\axisgrid.py:745: FutureWarning: iteritems is deprecated and will be removed in a future version. Use .items instead.\n",
      "  plot_args = [v for k, v in plot_data.iteritems()]\n",
      "c:\\Users\\Felipe\\python_work\\notebooks\\py_practical_statistics\\practical_statistics\\lib\\site-packages\\seaborn\\axisgrid.py:745: FutureWarning: iteritems is deprecated and will be removed in a future version. Use .items instead.\n",
      "  plot_args = [v for k, v in plot_data.iteritems()]\n"
     ]
    },
    {
     "data": {
      "image/png": "[encoded data removed]",
      "text/plain": [
       "<Figure size 400x600 with 3 Axes>"
      ]
     },
     "metadata": {},
     "output_type": "display_data"
    }
   ],
   "source": [
    "g = sns.FacetGrid(results, col='type', col_wrap=1, \n",
    "                  height=2, aspect=2)\n",
    "g.map(plt.hist, 'income', range=[0, 200000], bins=40)\n",
    "g.set_axis_labels('Income', 'Count')\n",
    "g.set_titles('{col_name}')\n",
    "\n",
    "plt.tight_layout()\n",
    "plt.show()"
   ]
  },
  {
   "cell_type": "markdown",
   "metadata": {},
   "source": [
    "<p><i>Figure 2-6. Histogram of annual incoms of 1000 loan applicants (top), then 1000 means of n=5 applicants (middle), and finally 1000 means of n=20 applicants (bottom).</i></p>\n",
    "<p>We can see that the histogram of the individual values is broadly spread out and skewed toward <i>higher</i> values. As we get sample sizes with means of 5 and 20, the histograms become increasingly compact and more bell-shaped.</p>\n",
    "<h2>2.2 Central Limit Theorem</h2>\n",
    "The <i>central limit theorem</i> states that the means drawn from multiple samples will resemble the familiar bell-shaped normal curve <i>even</i> if the source population is <i>not</i> normally distributed, provided that the sample size is large enough and the departure of the data from normality is not too great.</p>\n",
    "</h3>2.2.1 Standard Error</h3>\n",
    "<p>The <i>standard error</i> sums up the <i>variability</i> in the <strong>sampling</strong> distribution for a statistic. You can estimate it by using a statistic based on the standard deviation <i>s</i> of the sample values, and the sample size <i>n</i>. As <i>n</i> increases, the SE <strong>decreases</strong>.</p>\n",
    "\n",
    "\n",
    "<div style=\"background: lightblack; \n",
    "            font-size: 16px; \n",
    "            padding: 10px; \n",
    "            border: 1px solid lightgray; \n",
    "            margin: 10px;\">\n",
    "  <h4><strong>Takeaways:</strong></h4>\n",
    "<ul>\n",
    "<li>The frequency of a sample statistic tells us how that metric would turn out differently from sample to sample.</li>\n",
    "<li>A key metric that sums up the variability of a sample statistic is its standard error.</li>\n",
    "</ul>\n",
    "</p>\n",
    "</div>\n",
    "<h2>2.3 The Bootstrap</h2>\n",
    "<p>The <i>bootstrap</i> procedure consists on drawing additional samples, with replacement, from the sample and recalculate the statistic or model for each resample. Basically, you would replicate the original sample many times for the purpose of estimating a sampling distribution.</p>\n",
    "<p>Let's see its application in Python with <code>scikit-learn</code>'s <code>resample</code> method.</p>"
   ]
  },
  {
   "cell_type": "code",
   "execution_count": 7,
   "metadata": {},
   "outputs": [
    {
     "name": "stdout",
     "output_type": "stream",
     "text": [
      "Bootstrap Statistics:\n",
      "Original: 62000.0\n",
      "Bias: -82.09799999999814\n",
      "Std. Error: 228.73933106830927\n"
     ]
    }
   ],
   "source": [
    "results = []\n",
    "for nrepeat in range(1000):\n",
    "    sample = resample(loans_income)\n",
    "    results.append(sample.median())\n",
    "results = pd.Series(results)\n",
    "print('Bootstrap Statistics:')\n",
    "print(f'Original: {loans_income.median()}')\n",
    "print(f'Bias: {results.mean() - loans_income.median()}')\n",
    "print(f'Std. Error: {results.std()}')"
   ]
  },
  {
   "cell_type": "markdown",
   "metadata": {},
   "source": [
    "<p>In conclusion, the <i>bootstrap</i> is a powerful tool for evaluating the variability of a sample statistic.</p>\n",
    "<hr>\n",
    "<h2>2.4 Confidence Intervals (lots of notes here!) </h2>\n",
    "<p>Just as frequency tables, boxplots, and histograms, <i>confidence intervals</i> are another way to understand the <strong>potential error</strong> in a sample estimate. As a countermeasure to the use of <i>point estimates</i> (a single number), presenting an estimate as a <strong>range</strong> is a way to ground our findings in statistical sampling principles.</p>\n",
    "<strong>Confidence intervals</strong> are presented in a coverage level, often represented by a high percentage such as 90% or 95%. Example:\n",
    "<ul>\n",
    "<li>A <strong>90%</strong> interval represents the interval that encloses the <i>central</i> 90% of the bootstrap sampling distribution of a samples statistic; as such, in 90% of the cases the sample estimate should contain similar sample estimates.</li>\n",
    "</ul>\n",
    "<p>The following steps indicate the procedures to get the algorithm for a bootstrap confidence interval:</p>\n",
    "<ol>\n",
    "<li>Draw a random sample size of <i>n</i> with replacement from the data.</li>\n",
    "<li>Record the statistic of interest for the resample.</li>\n",
    "<li>Repeat steps 1-2 many (<i>R</i>) times.</li>\n",
    "<li>For an <i>x%</i> confidence interval, trim [(100-<i>x</i>) / 2]% of the <i>R</i> resample results from either end of the distribution.</li>\n",
    "<li>The trim points are the enpoints of an <i>x%</i> bootstrap confidence interval.</li>\n",
    "</ol>\n",
    "<p>Let's visualize the process in Python:</p>"
   ]
  },
  {
   "cell_type": "code",
   "execution_count": 8,
   "metadata": {},
   "outputs": [
    {
     "name": "stdout",
     "output_type": "stream",
     "text": [
      "68760.51844\n",
      "55734.1\n"
     ]
    }
   ],
   "source": [
    "print(loans_income.mean())\n",
    "np.random.seed(seed=3)\n",
    "# Create a sample of 20 loean income data\n",
    "sample_20 = resample(loans_income, n_samples=20, replace=False)\n",
    "print(sample_20.mean())"
   ]
  },
  {
   "cell_type": "code",
   "execution_count": 9,
   "metadata": {},
   "outputs": [
    {
     "data": {
      "image/png": "[encoded data removed]",
      "text/plain": [
       "<Figure size 400x300 with 1 Axes>"
      ]
     },
     "metadata": {},
     "output_type": "display_data"
    }
   ],
   "source": [
    "results = []\n",
    "for nrepeat in range(500):\n",
    "    sample = resample(sample_20)\n",
    "    results.append(sample.mean())\n",
    "results = pd.Series(results)\n",
    "\n",
    "confidence_interval = list(results.quantile([0.05, 0.95]))\n",
    "ax = results.plot.hist(bins=30, figsize=(4, 3))\n",
    "ax.plot(confidence_interval, [55, 55], color='black')\n",
    "for x in confidence_interval:\n",
    "    ax.plot([x, x], [0, 65], color='black')\n",
    "    ax.text(x, 70, f'{x:.0f}',\n",
    "            horizontalalignment='center', verticalalignment='center')\n",
    "\n",
    "ax.text(sum(confidence_interval) / 2, 60, '90% interval',\n",
    "        horizontalalignment='center', verticalalignment='center')\n",
    "\n",
    "mean_income = results.mean()\n",
    "ax.plot([mean_income, mean_income], [0, 50], color='black', linestyle='--')\n",
    "ax.text(mean_income, 10, f'Mean: {mean_income:.0f}',\n",
    "        bbox=dict(facecolor='white', edgecolor='white', alpha=0.5),\n",
    "        horizontalalignment='center', verticalalignment='center')\n",
    "ax.set_ylim(0, 80)\n",
    "ax.set_ylabel('Counts')\n",
    "\n",
    "plt.tight_layout()\n",
    "plt.show()"
   ]
  },
  {
   "cell_type": "markdown",
   "metadata": {},
   "source": [
    "<p><i>Figure 2-9. Bootstrap confidence interval for the annual income of loan applicants, based on sample of 20</i<></p>"
   ]
  },
  {
   "cell_type": "code",
   "execution_count": null,
   "metadata": {},
   "outputs": [],
   "source": []
  }
 ],
 "metadata": {
  "kernelspec": {
   "display_name": "Python 3.10.3 ('practical_statistics': venv)",
   "language": "python",
   "name": "python3"
  },
  "language_info": {
   "codemirror_mode": {
    "name": "ipython",
    "version": 3
   },
   "file_extension": ".py",
   "mimetype": "text/x-python",
   "name": "python",
   "nbconvert_exporter": "python",
   "pygments_lexer": "ipython3",
   "version": "3.10.3"
  },
  "orig_nbformat": 4,
  "vscode": {
   "interpreter": {
    "hash": "51de193a9513fa29c60edaf753c5631bda108e409d18961c1c92c29778d679c5"
   }
  }
 },
 "nbformat": 4,
 "nbformat_minor": 2
}
