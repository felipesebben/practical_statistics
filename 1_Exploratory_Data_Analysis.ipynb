{
 "cells": [
  {
   "cell_type": "markdown",
   "metadata": {},
   "source": [
    "<h1><b>1. Exploratory Data Analysis</b></h1>\n",
    "<p>Let's first import the required libraries for this chapter.</p>"
   ]
  },
  {
   "cell_type": "code",
   "execution_count": 2,
   "metadata": {},
   "outputs": [],
   "source": [
    "%matplotlib inline\n",
    "\n",
    "from pathlib import Path\n",
    "\n",
    "import pandas as pd\n",
    "import numpy as np\n",
    "from scipy.stats import trim_mean\n",
    "from statsmodels import robust\n",
    "import wquantiles\n",
    "\n",
    "import seaborn as sns\n",
    "import matplotlib.pylab as plt"
   ]
  },
  {
   "cell_type": "code",
   "execution_count": 3,
   "metadata": {},
   "outputs": [],
   "source": [
    "try:\n",
    "    import common\n",
    "    DATA = common.dataDirectory()\n",
    "except ImportError:\n",
    "    DATA = Path().resolve() / 'data'"
   ]
  },
  {
   "cell_type": "markdown",
   "metadata": {},
   "source": [
    "<p>We are going to use many datasets. Since we've already stored them in the same directory as our code, we can use the same path names.</p>"
   ]
  },
  {
   "cell_type": "code",
   "execution_count": 4,
   "metadata": {},
   "outputs": [],
   "source": [
    "AIRLINE_STATS_CSV = DATA / 'airline_stats.csv'\n",
    "KC_TAX_CSV = DATA / 'kc_tax.csv.gz'\n",
    "LC_LOANS_CSV = DATA / 'lc_loans.csv'\n",
    "AIRPORT_DELAYS_CSV = DATA / 'dfw_airline.csv'\n",
    "SP500_DATA_CSV = DATA / 'sp500_data.csv.gz'\n",
    "SP500_SECTORS_CSV = DATA / 'sp500_sectors.csv'\n",
    "STATE_CSV = DATA / 'state.csv'"
   ]
  },
  {
   "cell_type": "markdown",
   "metadata": {},
   "source": [
    "<h2>1.1 Estimates of Location</h2>\n",
    "<h3>Example - Location Estimates of Population and Murder Rates</h3>\n",
    "<p><strong>Table 1-2.</strong> 2010 Census containing population and murder rates (units of murders per 100,000 people per year) for each state."
   ]
  },
  {
   "cell_type": "code",
   "execution_count": 5,
   "metadata": {},
   "outputs": [
    {
     "name": "stdout",
     "output_type": "stream",
     "text": [
      "         State  Population  Murder.Rate Abbreviation\n",
      "0      Alabama     4779736          5.7           AL\n",
      "1       Alaska      710231          5.6           AK\n",
      "2      Arizona     6392017          4.7           AZ\n",
      "3     Arkansas     2915918          5.6           AR\n",
      "4   California    37253956          4.4           CA\n",
      "5     Colorado     5029196          2.8           CO\n",
      "6  Connecticut     3574097          2.4           CT\n",
      "7     Delaware      897934          5.8           DE\n",
      "8      Florida    18801310          5.8           FL\n",
      "9      Georgia     9687653          5.7           GA\n"
     ]
    }
   ],
   "source": [
    "df_state = pd.read_csv(STATE_CSV)\n",
    "print(df_state.head(10))"
   ]
  },
  {
   "cell_type": "markdown",
   "metadata": {},
   "source": [
    "<p> Let's compute the mean.</p>"
   ]
  },
  {
   "cell_type": "code",
   "execution_count": 6,
   "metadata": {},
   "outputs": [
    {
     "data": {
      "text/plain": [
       "6162876.3"
      ]
     },
     "execution_count": 6,
     "metadata": {},
     "output_type": "execute_result"
    }
   ],
   "source": [
    "df_state['Population'].mean()"
   ]
  },
  {
   "cell_type": "markdown",
   "metadata": {},
   "source": [
    "<p>To compute the trimmed mean we can use <code>trim_mean</code> from <code>scipy.stats</code>:</p>"
   ]
  },
  {
   "cell_type": "code",
   "execution_count": 7,
   "metadata": {},
   "outputs": [
    {
     "name": "stdout",
     "output_type": "stream",
     "text": [
      "4783697.125\n"
     ]
    }
   ],
   "source": [
    "print(trim_mean(df_state['Population'], 0.1))"
   ]
  },
  {
   "cell_type": "markdown",
   "metadata": {},
   "source": [
    "<p>Ok! Now, how about computing the median?</p>"
   ]
  },
  {
   "cell_type": "code",
   "execution_count": 8,
   "metadata": {},
   "outputs": [
    {
     "name": "stdout",
     "output_type": "stream",
     "text": [
      "4436369.5\n"
     ]
    }
   ],
   "source": [
    "print(df_state['Population'].median())"
   ]
  },
  {
   "cell_type": "markdown",
   "metadata": {},
   "source": [
    "<p>Since <code>trim_mean</code> with a 10% (0.1) drop, which consists of removing 5 states from each end of the dataset population-wise, excludes the extremes, we get a smaller value when comparing with the mean.</p>\n",
    "<p>To compute the average murder rate for the country, we need to use a <strong>weighted average</strong> to take into account the different demographics of each state.</p>"
   ]
  },
  {
   "cell_type": "code",
   "execution_count": 9,
   "metadata": {},
   "outputs": [
    {
     "name": "stdout",
     "output_type": "stream",
     "text": [
      "4.066\n"
     ]
    }
   ],
   "source": [
    "print(df_state['Murder.Rate'].mean())"
   ]
  },
  {
   "cell_type": "code",
   "execution_count": 10,
   "metadata": {},
   "outputs": [
    {
     "name": "stdout",
     "output_type": "stream",
     "text": [
      "4.445833981123393\n"
     ]
    }
   ],
   "source": [
    "# Use weighted mean with np.average\n",
    "print(np.average(df_state['Murder.Rate'], weights=df_state['Population']))"
   ]
  },
  {
   "cell_type": "markdown",
   "metadata": {},
   "source": [
    "To get the <strong>weighted median</strong>, use the <code>wquantiles</code> package.</p>"
   ]
  },
  {
   "cell_type": "code",
   "execution_count": 11,
   "metadata": {},
   "outputs": [
    {
     "name": "stdout",
     "output_type": "stream",
     "text": [
      "4.4\n"
     ]
    }
   ],
   "source": [
    "print(wquantiles.median(df_state['Murder.Rate'], weights=df_state['Population']))"
   ]
  },
  {
   "cell_type": "markdown",
   "metadata": {},
   "source": [
    "<div style=\"background: lightblack; \n",
    "            font-size: 16px; \n",
    "            padding: 10px; \n",
    "            border: 1px solid lightgray; \n",
    "            margin: 10px;\">\n",
    "  <h4><strong>Takeaways:</strong></h4>\n",
    "<ul>\n",
    "<li>Although the mean is the basic metric for location, it can be sensitive to extreme values.</li>\n",
    "<li>Other metrics such as the median and the trimmed mean are more robust since they are not as affected by outliers.</li>\n",
    "</ul>\n",
    "</p>\n",
    "</div>"
   ]
  },
  {
   "cell_type": "markdown",
   "metadata": {},
   "source": [
    "<hr>\n",
    "<h2>1.2 Estimates of Variability</h2>\n",
    "<h3>1.2.1 Standard Deviation and Related Estimates</h3>"
   ]
  },
  {
   "cell_type": "code",
   "execution_count": 27,
   "metadata": {},
   "outputs": [
    {
     "name": "stdout",
     "output_type": "stream",
     "text": [
      "         State  Population  Murder.Rate Abbreviation\n",
      "0      Alabama     4779736          5.7           AL\n",
      "1       Alaska      710231          5.6           AK\n",
      "2      Arizona     6392017          4.7           AZ\n",
      "3     Arkansas     2915918          5.6           AR\n",
      "4   California    37253956          4.4           CA\n",
      "5     Colorado     5029196          2.8           CO\n",
      "6  Connecticut     3574097          2.4           CT\n",
      "7     Delaware      897934          5.8           DE\n",
      "8      Florida    18801310          5.8           FL\n",
      "9      Georgia     9687653          5.7           GA\n"
     ]
    }
   ],
   "source": [
    "print(df_state.head(10))"
   ]
  },
  {
   "cell_type": "markdown",
   "metadata": {},
   "source": [
    "<p><i>Table 1-3. 2010 Census containing population and murder rates (units of murders per 100,000 people per year) for each state</i>."
   ]
  },
  {
   "cell_type": "markdown",
   "metadata": {},
   "source": [
    "<p>Let's calculate the standard deviation.</p>"
   ]
  },
  {
   "cell_type": "code",
   "execution_count": 16,
   "metadata": {},
   "outputs": [
    {
     "name": "stdout",
     "output_type": "stream",
     "text": [
      "6162876.3\n"
     ]
    }
   ],
   "source": [
    "print(df_state['Population'].mean())"
   ]
  },
  {
   "cell_type": "code",
   "execution_count": 13,
   "metadata": {},
   "outputs": [
    {
     "name": "stdout",
     "output_type": "stream",
     "text": [
      "6848235.347401142\n"
     ]
    }
   ],
   "source": [
    "print(df_state['Population'].std())"
   ]
  },
  {
   "cell_type": "markdown",
   "metadata": {},
   "source": [
    "<p>Calculating the <strong>interquantile range</strong> - we must find the difference between the 75th and the 25th quantile.</p>"
   ]
  },
  {
   "cell_type": "code",
   "execution_count": 17,
   "metadata": {},
   "outputs": [
    {
     "name": "stdout",
     "output_type": "stream",
     "text": [
      "4847308.0\n"
     ]
    }
   ],
   "source": [
    "print(df_state['Population'].quantile(0.75) - df_state['Population'].quantile(0.25))"
   ]
  },
  {
   "cell_type": "markdown",
   "metadata": {},
   "source": [
    "<p>When it comes to the <strong>median absolute deviation (MAD)</strong>, we can obtain it by using the function <code>robust.scale</code> from the <code>statsmodels</code> package.</p>"
   ]
  },
  {
   "cell_type": "code",
   "execution_count": 20,
   "metadata": {},
   "outputs": [
    {
     "name": "stdout",
     "output_type": "stream",
     "text": [
      "3849876.1459979336\n",
      "3849876.1459979336\n"
     ]
    }
   ],
   "source": [
    "print(robust.scale.mad(df_state['Population']))\n",
    "print(abs(df_state['Population'] - df_state['Population'].median()).median()/ 0.6744897501960817)"
   ]
  },
  {
   "cell_type": "markdown",
   "metadata": {},
   "source": [
    "<div style=\"background: lightblack; \n",
    "            font-size: 16px; \n",
    "            padding: 10px; \n",
    "            border: 1px solid lightgray; \n",
    "            margin: 10px;\">\n",
    "  <h4><strong>Takeaways:</strong></h4>\n",
    "<ul>\n",
    "<li><strong>Variance</strong> and <strong>standard deviation</strong> are very relevant as statistics of variability - both are <strong>very sensitive</strong> to extreme measures.</li>\n",
    "<li>More robust metrics - Mean absolute deviation, MAD, and percentiles.</li>\n",
    "</ul>\n",
    "</p>\n",
    "</div>"
   ]
  },
  {
   "cell_type": "markdown",
   "metadata": {},
   "source": [
    "<hr>\n",
    "<h2>1.3 Exploring the Data Distribution</h2>\n",
    "<h3>1.3.1 Percentiles and Boxplots</h3>\n",
    "<p>We can use the <code>pandas</code> <code>quantile</code> method to get the distribution of data in percentiles:</p>\n",
    "<h4>Percentiles</h4>"
   ]
  },
  {
   "cell_type": "code",
   "execution_count": 23,
   "metadata": {},
   "outputs": [
    {
     "name": "stdout",
     "output_type": "stream",
     "text": [
      "0.05    1.600\n",
      "0.25    2.425\n",
      "0.50    4.000\n",
      "0.75    5.550\n",
      "0.95    6.510\n",
      "Name: Murder.Rate, dtype: float64\n"
     ]
    }
   ],
   "source": [
    "# Percentiles\n",
    "print(df_state['Murder.Rate'].quantile([0.05, 0.25, 0.5, 0.75, 0.95]))"
   ]
  },
  {
   "cell_type": "code",
   "execution_count": 24,
   "metadata": {},
   "outputs": [
    {
     "name": "stdout",
     "output_type": "stream",
     "text": [
      "             5.0%  25.0%  50.0%  75.0%  95.0%\n",
      "Murder.Rate   1.6  2.425    4.0   5.55   6.51\n"
     ]
    }
   ],
   "source": [
    "percentages = [0.05, 0.25, 0.5, 0.75, 0.95]\n",
    "df = pd.DataFrame(df_state['Murder.Rate'].quantile(percentages))\n",
    "df.index = [f'{p * 100}%' for p in percentages]\n",
    "print(df.transpose())"
   ]
  },
  {
   "cell_type": "markdown",
   "metadata": {},
   "source": [
    "<p><i>Table 1-4. Percentiles of murder rate by US state.</i></p>"
   ]
  },
  {
   "cell_type": "markdown",
   "metadata": {},
   "source": [
    "<p>We can see that the murder rate in the US displays a high variability. The 5th percentile is only 1.6 murders / 100,000 people, while the .95 quantile is 0.6510.\n",
    "<h4>Boxplots</h4>"
   ]
  },
  {
   "cell_type": "code",
   "execution_count": 25,
   "metadata": {},
   "outputs": [
    {
     "data": {
      "image/png": "[encoded data removed]",
      "text/plain": [
       "<Figure size 300x400 with 1 Axes>"
      ]
     },
     "metadata": {},
     "output_type": "display_data"
    }
   ],
   "source": [
    "ax = (df_state['Population']/1_000_000).plot.box(figsize=(3, 4))\n",
    "ax.set_ylabel('Population (millions)')\n",
    "\n",
    "plt.tight_layout()\n",
    "plt.show()"
   ]
  },
  {
   "cell_type": "markdown",
   "metadata": {},
   "source": [
    "<p><i>Figure 1-2. Boxplot of state populations.</i></p>"
   ]
  },
  {
   "cell_type": "markdown",
   "metadata": {},
   "source": [
    "<p><strong>Observations:</strong></p>\n",
    "<ul>\n",
    "<li>The median population is around 5 million.</li>\n",
    "<li>Half the states fall between 2 and 7 million, approximately.</li>\n",
    "<li>The top and the bottom are the 75th and the 25th percentiles.</li>\n",
    "<li>The median is represented by the horizontal line in the box.</li>\n",
    "<li>The lines, also called <i>whiskers</i>, extend from the top and bottom of the box to indicate the range for the bulk of the data.</li>\n",
    "<li>Any data outside the wiskers is plotted as single circles and often represent <i>outliers</i>.</li>\n",
    "</ul>"
   ]
  },
  {
   "cell_type": "markdown",
   "metadata": {},
   "source": [
    "<h3>1.4.1 Frequency Tables and Histograms</h3>\n",
    "<h4>Frequency Tables</h4>\n",
    "<p>Use the <code>.cut()</code> function from <code>pandas</code> to create a series that maps the values into the segments. Coupled with <code>value_counts</code>, we can retrieve the frequency table:</p>\n"
   ]
  },
  {
   "cell_type": "code",
   "execution_count": 28,
   "metadata": {},
   "outputs": [
    {
     "name": "stdout",
     "output_type": "stream",
     "text": [
      "(526935.67, 4232659.0]      24\n",
      "(4232659.0, 7901692.0]      14\n",
      "(7901692.0, 11570725.0]      6\n",
      "(11570725.0, 15239758.0]     2\n",
      "(15239758.0, 18908791.0]     1\n",
      "(18908791.0, 22577824.0]     1\n",
      "(22577824.0, 26246857.0]     1\n",
      "(33584923.0, 37253956.0]     1\n",
      "(26246857.0, 29915890.0]     0\n",
      "(29915890.0, 33584923.0]     0\n",
      "Name: Population, dtype: int64\n"
     ]
    }
   ],
   "source": [
    "binned_population = pd.cut(df_state['Population'], 10)\n",
    "print(binned_population.value_counts())"
   ]
  },
  {
   "cell_type": "code",
   "execution_count": 29,
   "metadata": {},
   "outputs": [
    {
     "name": "stdout",
     "output_type": "stream",
     "text": [
      "                  bin_range  count  \\\n",
      "0    (526935.67, 4232659.0]     24   \n",
      "1    (4232659.0, 7901692.0]     14   \n",
      "2   (7901692.0, 11570725.0]      6   \n",
      "3  (11570725.0, 15239758.0]      2   \n",
      "4  (15239758.0, 18908791.0]      1   \n",
      "5  (18908791.0, 22577824.0]      1   \n",
      "6  (22577824.0, 26246857.0]      1   \n",
      "7  (26246857.0, 29915890.0]      0   \n",
      "8  (29915890.0, 33584923.0]      0   \n",
      "9  (33584923.0, 37253956.0]      1   \n",
      "\n",
      "                                              states  \n",
      "0  WY,VT,ND,AK,SD,DE,MT,RI,NH,ME,HI,ID,NE,WV,NM,N...  \n",
      "1          KY,LA,SC,AL,CO,MN,WI,MD,MO,TN,AZ,IN,MA,WA  \n",
      "2                                  VA,NJ,NC,GA,MI,OH  \n",
      "3                                              PA,IL  \n",
      "4                                                 FL  \n",
      "5                                                 NY  \n",
      "6                                                 TX  \n",
      "7                                                     \n",
      "8                                                     \n",
      "9                                                 CA  \n"
     ]
    }
   ],
   "source": [
    "# Table 1.5\n",
    "binned_population.name = 'binned_population'\n",
    "df = pd.concat([df_state, binned_population], axis=1)\n",
    "df = df.sort_values(by='Population')\n",
    "\n",
    "groups = []\n",
    "for group, subset in df.groupby(by='binned_population'):\n",
    "    groups.append({\n",
    "        'bin_range': group,\n",
    "        'count': len(subset),\n",
    "        'states': ','.join(subset.Abbreviation)\n",
    "    })\n",
    "print(pd.DataFrame(groups))"
   ]
  },
  {
   "cell_type": "markdown",
   "metadata": {},
   "source": [
    "<p><i>Table 1-5. A frequency table of population by state.</i></p>"
   ]
  },
  {
   "cell_type": "markdown",
   "metadata": {},
   "source": [
    "<p><strong>Observations:</strong></p>\n",
    "<ul>\n",
    "<li>Wyoming is the least populous state, with 526,935 people, while California is the most populous, with 37,253,956 inhabitants.</li>\n",
    "<li>This gives us a range of 36,727,021, which, divided by the 10 bins, result in a value of 3,672,702.1.</li>\n",
    "<li>Although the two bins below California are empty, it is important to include empty bins, as they provide useful information.</li>\n",
    "</ul>\n",
    "<h4>Histogram</h4>\n"
   ]
  },
  {
   "cell_type": "code",
   "execution_count": 32,
   "metadata": {},
   "outputs": [
    {
     "data": {
      "image/png": "[encoded data removed]",
      "text/plain": [
       "<Figure size 400x400 with 1 Axes>"
      ]
     },
     "metadata": {},
     "output_type": "display_data"
    }
   ],
   "source": [
    "ax = (df_state['Population'] / 1_000_000).plot.hist(figsize=(4, 4))\n",
    "ax.set_xlabel('Population (millions)')\n",
    "\n",
    "plt.tight_layout()\n",
    "plt.show()"
   ]
  },
  {
   "cell_type": "markdown",
   "metadata": {},
   "source": [
    "<p><i>Figure 1-3. Histogram of state populations.</i></p>"
   ]
  },
  {
   "cell_type": "code",
   "execution_count": null,
   "metadata": {},
   "outputs": [],
   "source": []
  }
 ],
 "metadata": {
  "kernelspec": {
   "display_name": "Python 3.10.3 ('practical_statistics': venv)",
   "language": "python",
   "name": "python3"
  },
  "language_info": {
   "codemirror_mode": {
    "name": "ipython",
    "version": 3
   },
   "file_extension": ".py",
   "mimetype": "text/x-python",
   "name": "python",
   "nbconvert_exporter": "python",
   "pygments_lexer": "ipython3",
   "version": "3.10.3"
  },
  "orig_nbformat": 4,
  "vscode": {
   "interpreter": {
    "hash": "51de193a9513fa29c60edaf753c5631bda108e409d18961c1c92c29778d679c5"
   }
  }
 },
 "nbformat": 4,
 "nbformat_minor": 2
}
